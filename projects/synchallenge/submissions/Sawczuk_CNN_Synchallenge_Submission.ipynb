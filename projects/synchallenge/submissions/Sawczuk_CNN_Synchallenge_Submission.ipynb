{
 "cells": [
  {
   "cell_type": "code",
   "execution_count": 129,
   "metadata": {
    "collapsed": true
   },
   "outputs": [],
   "source": [
    "# Synapse Classification Challenge\n",
    "# Introduction to Connectomics 2017\n",
    "# Hamilton Sawczuk\n",
    "\n",
    "your_name = 'hamilton_sawczuk'"
   ]
  },
  {
   "cell_type": "code",
   "execution_count": 130,
   "metadata": {},
   "outputs": [
    {
     "name": "stdout",
     "output_type": "stream",
     "text": [
      "Requirement already satisfied: tensorflow in /anaconda3/lib/python3.6/site-packages\n",
      "Requirement already satisfied: protobuf>=3.3.0 in /anaconda3/lib/python3.6/site-packages (from tensorflow)\n",
      "Requirement already satisfied: enum34>=1.1.6 in /anaconda3/lib/python3.6/site-packages (from tensorflow)\n",
      "Requirement already satisfied: tensorflow-tensorboard<0.5.0,>=0.4.0rc1 in /anaconda3/lib/python3.6/site-packages (from tensorflow)\n",
      "Requirement already satisfied: six>=1.10.0 in /anaconda3/lib/python3.6/site-packages (from tensorflow)\n",
      "Requirement already satisfied: numpy>=1.12.1 in /anaconda3/lib/python3.6/site-packages (from tensorflow)\n",
      "Requirement already satisfied: wheel>=0.26 in /anaconda3/lib/python3.6/site-packages (from tensorflow)\n",
      "Requirement already satisfied: setuptools in /anaconda3/lib/python3.6/site-packages (from protobuf>=3.3.0->tensorflow)\n",
      "Requirement already satisfied: werkzeug>=0.11.10 in /anaconda3/lib/python3.6/site-packages (from tensorflow-tensorboard<0.5.0,>=0.4.0rc1->tensorflow)\n",
      "Requirement already satisfied: html5lib==0.9999999 in /anaconda3/lib/python3.6/site-packages (from tensorflow-tensorboard<0.5.0,>=0.4.0rc1->tensorflow)\n",
      "Requirement already satisfied: bleach==1.5.0 in /anaconda3/lib/python3.6/site-packages (from tensorflow-tensorboard<0.5.0,>=0.4.0rc1->tensorflow)\n",
      "Requirement already satisfied: markdown>=2.6.8 in /anaconda3/lib/python3.6/site-packages (from tensorflow-tensorboard<0.5.0,>=0.4.0rc1->tensorflow)\n"
     ]
    }
   ],
   "source": [
    "!pip install tensorflow\n",
    "\n",
    "import tensorflow as tf\n",
    "import numpy as np\n",
    "\n",
    "tf.reset_default_graph()\n",
    "\n",
    "data = np.load('./synchallenge2017_training.npz')\n",
    "\n",
    "imtrain = data['imtrain']\n",
    "ytrain = [[1,0] if i==0 else [0,1] for i in data ['ytrain']]\n",
    "\n",
    "data = np.load('./synchallenge2017_validation.npz')\n",
    "\n",
    "imvalid = data['imvalid']\n",
    "yvalid = data['yvalid']\n",
    "\n",
    "meanimtrain = np.mean(imtrain)\n",
    "meanimvalid = np.mean(imvalid)\n",
    "\n",
    "imtrain = imtrain.reshape(2000, 64, 64, 1)\n",
    "imvalid = imvalid.reshape(2000, 64, 64, 1)\n",
    "\n",
    "#Adding Seed so that random initialization is consistent\n",
    "from numpy.random import seed\n",
    "seed(1)\n",
    "from tensorflow import set_random_seed\n",
    "set_random_seed(2)\n",
    "\n",
    "batch_size = 32\n",
    "\n",
    "#Prepare input data\n",
    "classes = ['dogs','cats']\n",
    "num_classes = len(classes)\n",
    "\n",
    "# 20% of the data will automatically be used for validation\n",
    "validation_size = 0.2\n",
    "img_size = 64\n",
    "num_channels = 1\n",
    "\n",
    "session = tf.Session()\n",
    "x = tf.placeholder(tf.float32, shape=[None, img_size,img_size,num_channels], name='x')\n",
    "\n",
    "## labels\n",
    "y_true = tf.placeholder(tf.float32, shape=[None, num_classes], name='y_true')\n",
    "y_true_cls = tf.argmax(y_true, dimension=1)\n",
    "\n",
    "##Network graph params\n",
    "filter_size_conv1 = 3 \n",
    "num_filters_conv1 = 32\n",
    "\n",
    "filter_size_conv2 = 3\n",
    "num_filters_conv2 = 32\n",
    "\n",
    "filter_size_conv3 = 3\n",
    "num_filters_conv3 = 64\n",
    "    \n",
    "fc_layer_size = 128"
   ]
  },
  {
   "cell_type": "code",
   "execution_count": 131,
   "metadata": {
    "collapsed": true
   },
   "outputs": [],
   "source": [
    "def create_weights(shape):\n",
    "    return tf.Variable(tf.truncated_normal(shape, stddev=0.05))\n",
    "\n",
    "def create_biases(size):\n",
    "    return tf.Variable(tf.constant(0.05, shape=[size]))"
   ]
  },
  {
   "cell_type": "code",
   "execution_count": 132,
   "metadata": {
    "collapsed": true
   },
   "outputs": [],
   "source": [
    "def create_convolutional_layer(input,\n",
    "               num_input_channels, \n",
    "               conv_filter_size,        \n",
    "               num_filters):  \n",
    "    \n",
    "    ## We shall define the weights that will be trained using create_weights function.\n",
    "    weights = create_weights(shape=[conv_filter_size, conv_filter_size, num_input_channels, num_filters])\n",
    "    ## We create biases using the create_biases function. These are also trained.\n",
    "    biases = create_biases(num_filters)\n",
    "\n",
    "    ## Creating the convolutional layer\n",
    "    layer = tf.nn.conv2d(input=input,\n",
    "                     filter=weights,\n",
    "                     strides=[1, 1, 1, 1],\n",
    "                     padding='SAME')\n",
    "\n",
    "    layer += biases\n",
    "\n",
    "    ## We shall be using max-pooling.  \n",
    "    layer = tf.nn.max_pool(value=layer,\n",
    "                            ksize=[1, 2, 2, 1],\n",
    "                            strides=[1, 2, 2, 1],\n",
    "                            padding='SAME')\n",
    "    ## Output of pooling is fed to Relu which is the activation function for us.\n",
    "    layer = tf.nn.relu(layer)\n",
    "\n",
    "    return layer"
   ]
  },
  {
   "cell_type": "code",
   "execution_count": 133,
   "metadata": {
    "collapsed": true
   },
   "outputs": [],
   "source": [
    "def create_flatten_layer(layer):\n",
    "    #We know that the shape of the layer will be [batch_size img_size img_size num_channels] \n",
    "    # But let's get it from the previous layer.\n",
    "    layer_shape = layer.get_shape()\n",
    "\n",
    "    ## Number of features will be img_height * img_width* num_channels. But we shall calculate it in place of hard-coding it.\n",
    "    num_features = layer_shape[1:4].num_elements()\n",
    "\n",
    "    ## Now, we Flatten the layer so we shall have to reshape to num_features\n",
    "    layer = tf.reshape(layer, [-1, num_features])\n",
    "\n",
    "    return layer"
   ]
  },
  {
   "cell_type": "code",
   "execution_count": 134,
   "metadata": {
    "collapsed": true
   },
   "outputs": [],
   "source": [
    "def create_fc_layer(input,          \n",
    "             num_inputs,    \n",
    "             num_outputs,\n",
    "             use_relu=True):\n",
    "    \n",
    "    #Let's define trainable weights and biases.\n",
    "    weights = create_weights(shape=[num_inputs, num_outputs])\n",
    "    biases = create_biases(num_outputs)\n",
    "\n",
    "    # Fully connected layer takes input x and produces wx+b.Since, these are matrices, we use matmul function in Tensorflow\n",
    "    layer = tf.matmul(input, weights) + biases\n",
    "    if use_relu:\n",
    "        layer = tf.nn.relu(layer)\n",
    "\n",
    "    return layer"
   ]
  },
  {
   "cell_type": "code",
   "execution_count": 135,
   "metadata": {
    "collapsed": true
   },
   "outputs": [],
   "source": [
    "layer_conv1 = create_convolutional_layer(input=x,\n",
    "               num_input_channels=num_channels,\n",
    "               conv_filter_size=filter_size_conv1,\n",
    "               num_filters=num_filters_conv1)\n",
    "layer_conv2 = create_convolutional_layer(input=layer_conv1,\n",
    "               num_input_channels=num_filters_conv1,\n",
    "               conv_filter_size=filter_size_conv2,\n",
    "               num_filters=num_filters_conv2)\n",
    "\n",
    "layer_conv3= create_convolutional_layer(input=layer_conv2,\n",
    "               num_input_channels=num_filters_conv2,\n",
    "               conv_filter_size=filter_size_conv3,\n",
    "               num_filters=num_filters_conv3)\n",
    "          \n",
    "layer_flat = create_flatten_layer(layer_conv3)\n",
    "\n",
    "layer_fc1 = create_fc_layer(input=layer_flat,\n",
    "                     num_inputs=layer_flat.get_shape()[1:4].num_elements(),\n",
    "                     num_outputs=fc_layer_size,\n",
    "                     use_relu=True)\n",
    "\n",
    "layer_fc2 = create_fc_layer(input=layer_fc1,\n",
    "                     num_inputs=fc_layer_size,\n",
    "                     num_outputs=num_classes,\n",
    "                     use_relu=False) "
   ]
  },
  {
   "cell_type": "code",
   "execution_count": 136,
   "metadata": {
    "collapsed": true
   },
   "outputs": [],
   "source": [
    "y_pred = tf.nn.softmax(layer_fc2,name='y_pred')\n",
    "\n",
    "y_pred_cls = tf.argmax(y_pred, dimension=1)\n",
    "session.run(tf.global_variables_initializer())\n",
    "cross_entropy = tf.nn.softmax_cross_entropy_with_logits(logits=layer_fc2,\n",
    "                                                    labels=y_true)\n",
    "cost = tf.reduce_mean(cross_entropy)\n",
    "optimizer = tf.train.AdamOptimizer(learning_rate=1e-4).minimize(cost)\n",
    "correct_prediction = tf.equal(y_pred_cls, y_true_cls)\n",
    "accuracy = tf.reduce_mean(tf.cast(correct_prediction, tf.float32))\n",
    "\n",
    "session.run(tf.global_variables_initializer()) "
   ]
  },
  {
   "cell_type": "code",
   "execution_count": 137,
   "metadata": {
    "collapsed": true
   },
   "outputs": [],
   "source": [
    "def show_progress(epoch, feed_dict_train, feed_dict_validate, val_loss):\n",
    "    acc = session.run(accuracy, feed_dict=feed_dict_train)\n",
    "    val_acc = session.run(accuracy, feed_dict=feed_dict_validate)\n",
    "    msg = \"Training Epoch {0} --- Training Accuracy: {1:>6.1%}, Validation Accuracy: {2:>6.1%},  Validation Loss: {3:.3f}\"\n",
    "    print(msg.format(epoch + 1, acc, val_acc, val_loss))\n",
    "\n",
    "total_iterations = 0\n",
    "\n",
    "saver = tf.train.Saver()"
   ]
  },
  {
   "cell_type": "code",
   "execution_count": 138,
   "metadata": {
    "collapsed": true
   },
   "outputs": [],
   "source": [
    "def train(num_iteration):\n",
    "    global total_iterations\n",
    "    \n",
    "    for i in range(total_iterations,\n",
    "                   total_iterations + num_iteration):\n",
    "        \n",
    "        indices_train = np.random.choice(int(0.8*imtrain.shape[0]), batch_size)\n",
    "        x_batch = imtrain[indices_train]\n",
    "        y_true_batch = [ytrain[i] for i in indices_train]\n",
    "        \n",
    "        offset = int(0.8*imtrain.shape[0])\n",
    "        indices_valid = np.random.choice(int(0.2*imtrain.shape[0]), batch_size)\n",
    "        x_valid_batch = imtrain[indices_valid + offset]\n",
    "        y_valid_batch = [ytrain[i+offset] for i in indices_valid]\n",
    "        \n",
    "        feed_dict_tr = {x: x_batch,\n",
    "                           y_true: y_true_batch}\n",
    "        feed_dict_val = {x: x_valid_batch,\n",
    "                              y_true: y_valid_batch}\n",
    "\n",
    "        session.run(optimizer, feed_dict=feed_dict_tr)\n",
    "\n",
    "        if i % int(2000/batch_size) == 0: \n",
    "            val_loss = session.run(cost, feed_dict=feed_dict_val)\n",
    "            epoch = int(i / int(2000/batch_size))    \n",
    "            \n",
    "            show_progress(epoch, feed_dict_tr, feed_dict_val, val_loss)\n",
    "            saver.save(session, './binaryCNNClassifier') \n",
    "\n",
    "\n",
    "    total_iterations += num_iteration"
   ]
  },
  {
   "cell_type": "code",
   "execution_count": 139,
   "metadata": {},
   "outputs": [
    {
     "name": "stdout",
     "output_type": "stream",
     "text": [
      "Training Epoch 1 --- Training Accuracy:  43.8%, Validation Accuracy:  56.2%,  Validation Loss: 0.753\n",
      "Training Epoch 2 --- Training Accuracy:  87.5%, Validation Accuracy:  78.1%,  Validation Loss: 0.519\n",
      "Training Epoch 3 --- Training Accuracy:  81.2%, Validation Accuracy:  75.0%,  Validation Loss: 0.494\n",
      "Training Epoch 4 --- Training Accuracy:  93.8%, Validation Accuracy:  81.2%,  Validation Loss: 0.518\n",
      "Training Epoch 5 --- Training Accuracy:  87.5%, Validation Accuracy:  81.2%,  Validation Loss: 0.387\n",
      "Training Epoch 6 --- Training Accuracy:  90.6%, Validation Accuracy:  78.1%,  Validation Loss: 0.361\n",
      "Training Epoch 7 --- Training Accuracy:  90.6%, Validation Accuracy:  93.8%,  Validation Loss: 0.186\n",
      "Training Epoch 8 --- Training Accuracy:  81.2%, Validation Accuracy:  84.4%,  Validation Loss: 0.299\n",
      "Training Epoch 9 --- Training Accuracy:  90.6%, Validation Accuracy:  90.6%,  Validation Loss: 0.246\n",
      "Training Epoch 10 --- Training Accuracy:  87.5%, Validation Accuracy: 100.0%,  Validation Loss: 0.096\n",
      "Training Epoch 11 --- Training Accuracy:  93.8%, Validation Accuracy:  87.5%,  Validation Loss: 0.239\n",
      "Training Epoch 12 --- Training Accuracy:  93.8%, Validation Accuracy:  84.4%,  Validation Loss: 0.359\n",
      "Training Epoch 13 --- Training Accuracy:  93.8%, Validation Accuracy:  87.5%,  Validation Loss: 0.245\n",
      "Training Epoch 14 --- Training Accuracy:  93.8%, Validation Accuracy:  90.6%,  Validation Loss: 0.172\n",
      "Training Epoch 15 --- Training Accuracy: 100.0%, Validation Accuracy:  93.8%,  Validation Loss: 0.171\n",
      "Training Epoch 16 --- Training Accuracy:  93.8%, Validation Accuracy:  96.9%,  Validation Loss: 0.140\n",
      "Training Epoch 17 --- Training Accuracy:  96.9%, Validation Accuracy:  87.5%,  Validation Loss: 0.350\n",
      "Training Epoch 18 --- Training Accuracy: 100.0%, Validation Accuracy:  81.2%,  Validation Loss: 0.309\n",
      "Training Epoch 19 --- Training Accuracy: 100.0%, Validation Accuracy:  90.6%,  Validation Loss: 0.300\n",
      "Training Epoch 20 --- Training Accuracy: 100.0%, Validation Accuracy:  81.2%,  Validation Loss: 0.407\n",
      "Training Epoch 21 --- Training Accuracy:  93.8%, Validation Accuracy:  84.4%,  Validation Loss: 0.408\n",
      "Training Epoch 22 --- Training Accuracy: 100.0%, Validation Accuracy:  90.6%,  Validation Loss: 0.310\n",
      "Training Epoch 23 --- Training Accuracy: 100.0%, Validation Accuracy:  90.6%,  Validation Loss: 0.183\n",
      "Training Epoch 24 --- Training Accuracy: 100.0%, Validation Accuracy:  96.9%,  Validation Loss: 0.094\n",
      "Training Epoch 25 --- Training Accuracy: 100.0%, Validation Accuracy:  81.2%,  Validation Loss: 0.383\n",
      "Training Epoch 26 --- Training Accuracy: 100.0%, Validation Accuracy:  93.8%,  Validation Loss: 0.136\n"
     ]
    }
   ],
   "source": [
    "train(num_iteration=1600)"
   ]
  },
  {
   "cell_type": "code",
   "execution_count": 140,
   "metadata": {},
   "outputs": [
    {
     "name": "stdout",
     "output_type": "stream",
     "text": [
      "INFO:tensorflow:Restoring parameters from ./binaryCNNClassifier\n",
      "[[  9.99981284e-01   1.87671521e-05]\n",
      " [  9.47286248e-01   5.27137741e-02]\n",
      " [  9.97676313e-01   2.32368079e-03]\n",
      " ..., \n",
      " [  1.85332401e-03   9.98146653e-01]\n",
      " [  9.88800883e-01   1.11990580e-02]\n",
      " [  9.99988556e-01   1.14778386e-05]]\n"
     ]
    }
   ],
   "source": [
    "## Let us restore the saved model \n",
    "sess = tf.Session()\n",
    "# Step-1: Recreate the network graph. At this step only graph is created.\n",
    "saver = tf.train.import_meta_graph('binaryCNNClassifier.meta')\n",
    "# Step-2: Now let's load the weights saved using the restore method.\n",
    "saver.restore(sess, tf.train.latest_checkpoint('./'))\n",
    "\n",
    "# Accessing the default graph which we have restored\n",
    "graph = tf.get_default_graph()\n",
    "\n",
    "# Now, let's get hold of the op that we can be processed to get the output.\n",
    "# In the original network y_pred is the tensor that is the prediction of the network\n",
    "y_pred = graph.get_tensor_by_name(\"y_pred:0\")\n",
    "\n",
    "## Let's feed the images to the input placeholders\n",
    "x= graph.get_tensor_by_name(\"x:0\") \n",
    "y_true = graph.get_tensor_by_name(\"y_true:0\")\n",
    "y_test_images = np.zeros((2000, 2))\n",
    "\n",
    "\n",
    "### Creating the feed_dict that is required to be fed to calculate y_pred \n",
    "feed_dict_testing = {x: imvalid, y_true: y_test_images}\n",
    "result=sess.run(y_pred, feed_dict=feed_dict_testing)\n",
    "# result is of this format [probabiliy_of_rose probability_of_sunflower]\n",
    "print(result)"
   ]
  },
  {
   "cell_type": "code",
   "execution_count": 141,
   "metadata": {},
   "outputs": [
    {
     "name": "stdout",
     "output_type": "stream",
     "text": [
      "default f1 score: 0.88\n",
      "My best validation f1-score is: 0.89 at 0.30000000000000004 threshold.\n"
     ]
    }
   ],
   "source": [
    "# Best f1 score report on validation set\n",
    "\n",
    "from sklearn.metrics import f1_score\n",
    "\n",
    "# Can add post-processing here if desired\n",
    "\n",
    "prob_syn = result[:,1]\n",
    "\n",
    "# default threshold\n",
    "print('default f1 score: {}'.format(np.round(f1_score(yvalid, prob_syn >=0.5),2)))\n",
    "\n",
    "f1_out = 0\n",
    "thresh = 0\n",
    "for i in np.arange(0.0, 1, 0.05):\n",
    "    f1_test =  f1_score(yvalid, prob_syn > i)\n",
    "    if f1_test > f1_out:\n",
    "        f1_out = f1_test\n",
    "        thresh = i\n",
    "\n",
    "print('My best validation f1-score is: {} at {} threshold.'.format(np.round(f1_out,2), thresh))"
   ]
  },
  {
   "cell_type": "code",
   "execution_count": 142,
   "metadata": {},
   "outputs": [
    {
     "name": "stdout",
     "output_type": "stream",
     "text": [
      "[[  9.14181113e-01   8.58189613e-02]\n",
      " [  9.75304186e-01   2.46958192e-02]\n",
      " [  9.94409263e-01   5.59072802e-03]\n",
      " ..., \n",
      " [  9.99807417e-01   1.92662410e-04]\n",
      " [  1.43113965e-03   9.98568892e-01]\n",
      " [  4.19730728e-04   9.99580324e-01]]\n"
     ]
    }
   ],
   "source": [
    "data = np.load('./synchallenge2017_test_notruth.npz')\n",
    "\n",
    "imtest = data['imtest']\n",
    "\n",
    "meanimtest = np.mean(imtest)\n",
    "\n",
    "imtest = imtest.reshape(2000, 64, 64, 1)\n",
    "\n",
    "### Creating the feed_dict that is required to be fed to calculate y_pred \n",
    "feed_dict_testing = {x: imtest, y_true: y_test_images}\n",
    "result=sess.run(y_pred, feed_dict=feed_dict_testing)\n",
    "# result is of this format [probabiliy_of_rose probability_of_sunflower]\n",
    "print(result)\n",
    "\n",
    "# Post-processing\n",
    "prob_syntest = result[:,1]\n",
    "syntest_predict = prob_syntest > thresh\n",
    "syntest_predict = np.asarray(syntest_predict,dtype = 'uint8')\n",
    "\n",
    "# save file and upload to google docs with label vector\n",
    "np.save(your_name+'_synchallenge_testdata.npy',syntest_predict)"
   ]
  },
  {
   "cell_type": "code",
   "execution_count": null,
   "metadata": {
    "collapsed": true
   },
   "outputs": [],
   "source": []
  }
 ],
 "metadata": {
  "kernelspec": {
   "display_name": "Python 3",
   "language": "python",
   "name": "python3"
  },
  "language_info": {
   "codemirror_mode": {
    "name": "ipython",
    "version": 3
   },
   "file_extension": ".py",
   "mimetype": "text/x-python",
   "name": "python",
   "nbconvert_exporter": "python",
   "pygments_lexer": "ipython3",
   "version": "3.6.3"
  }
 },
 "nbformat": 4,
 "nbformat_minor": 2
}
