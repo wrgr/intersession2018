{
 "cells": [
  {
   "cell_type": "markdown",
   "metadata": {},
   "source": [
    "<u><h1>GRAPH EXPLORER</h1></u>\n",
    "\n",
    "<h2>By: Brandon Lim, Frank Bu, and Frank Miao</h2>\n",
    "<h3>JHU EN.601.223(13)<br />\n",
    "Introduction to Connectomics<br />\n",
    "Dr. William Gray Roncal<br />\n",
    "Intersession 2018</h3>\n",
    "\n",
    "<hr />"
   ]
  },
  {
   "cell_type": "markdown",
   "metadata": {},
   "source": [
    "# Getting Data\n",
    "\n",
    "First, we want to grab some graphs and subject covariates from a web-accessible url.  We've given this to you on google drive rather than having you set up aws s3 credentials in the interest of saving time. The original data is hosted at m2g.io\n",
    "\n",
    "Below, you will be getting the following dataset:\n",
    "\n",
    "| Property | Value |\n",
    "|:--------:|:-----:|\n",
    "| Dataset  | SWU4  |\n",
    "| N-Subjects  | 454   |\n",
    "| Scans-per-subjects | 2 |\n",
    "| Atlases | Desikan, CPAC200 |\n",
    "| Desikan Nodes | 70 |\n",
    "| CPAC200 Nodes | 200 |\n",
    "\n",
    "The covariates you have are: `SUBID, SESSION, AGE_AT_SCAN_1, SEX, RESTING_STATE_INSTRUCTION, TIME_OF_DAY, SEASON, SATIETY, LMP`. There are other columns in the `.csv` file (downloaded in the next step) but they are populated with a `#` meaning that the value was not recorded.\n",
    "\n",
    "There are several other atlases available - you can change which one you use \n",
    "Running the cell below will get you the data. **Please note, you only have to run these two cells once!!!**"
   ]
  },
  {
   "cell_type": "markdown",
   "metadata": {},
   "source": [
    "## Loading Graphs + Covariates\n",
    "Run the following cells of code to load the graphs into your computer, as well as the covariates."
   ]
  },
  {
   "cell_type": "code",
   "execution_count": 238,
   "metadata": {},
   "outputs": [
    {
     "name": "stdout",
     "output_type": "stream",
     "text": [
      "Requirement already satisfied: networkx==1.9 in /opt/conda/lib/python3.6/site-packages\n",
      "Requirement already satisfied: decorator>=3.4.0 in /opt/conda/lib/python3.6/site-packages (from networkx==1.9)\n",
      "Requirement already satisfied: sklearn in /opt/conda/lib/python3.6/site-packages\n",
      "Requirement already satisfied: scikit-learn in /opt/conda/lib/python3.6/site-packages (from sklearn)\n"
     ]
    }
   ],
   "source": [
    "!pip install networkx==1.9 #networkx broke backwards compatibility with these graph files\n",
    "!pip install sklearn\n",
    "import sklearn.ensemble\n",
    "import numpy as np\n",
    "import networkx as nx\n",
    "import scipy as sp\n",
    "import matplotlib.pyplot as plt\n",
    "import os\n",
    "import csv\n",
    "\n",
    "\n",
    "from collections import OrderedDict"
   ]
  },
  {
   "cell_type": "code",
   "execution_count": 239,
   "metadata": {},
   "outputs": [
    {
     "name": "stdout",
     "output_type": "stream",
     "text": [
      "data/SWU4/desikan\n",
      "Datasets: SWU4 (454)\n",
      "Total Subjects: 454\n"
     ]
    }
   ],
   "source": [
    "# Initializing dataset names\n",
    "dataset_names = 'SWU4'\n",
    "\n",
    "basepath = 'data'\n",
    "\n",
    "# change which atlas you use, here!\n",
    "\n",
    "atlas = 'desikan' # 'desikan' # or 'CPAC200', or 'Talairach'\n",
    "dir_names = basepath + '/' + dataset_names + '/' + atlas\n",
    "#basepath = \"/\"\n",
    "#dir_names = basepath\n",
    "print(dir_names)\n",
    "fs = OrderedDict()\n",
    "fs[dataset_names] = [root + \"/\" + fl for root, dirs, files in os.walk(dir_names)\n",
    "                     for fl in files if fl.endswith(\".gpickle\")]\n",
    "\n",
    "ps = \"data/SWU4/SWU4.csv\"\n",
    "\n",
    "print(\"Datasets: \" + \", \".join([fkey + \" (\" + str(len(fs[fkey])) + \")\"\n",
    "                                for fkey in fs]))\n",
    "print(\"Total Subjects: %d\" % (sum([len(fs[key]) for key in fs])))"
   ]
  },
  {
   "cell_type": "code",
   "execution_count": 240,
   "metadata": {},
   "outputs": [],
   "source": [
    "def loadGraphs(filenames, verb=False):\n",
    "    \"\"\"\n",
    "    Given a list of files, returns a dictionary of graphs\n",
    "\n",
    "    Required parameters:\n",
    "        filenames:\n",
    "            - List of filenames for graphs\n",
    "    Optional parameters:\n",
    "        verb:\n",
    "            - Toggles verbose output statements\n",
    "    \"\"\"\n",
    "    #  Initializes empty dictionary\n",
    "    gstruct = OrderedDict()\n",
    "    for idx, files in enumerate(filenames):\n",
    "        if verb:\n",
    "            print(\"Loading: \" + files)\n",
    "        #  Adds graphs to dictionary with key being filename\n",
    "        fname = os.path.basename(files)\n",
    "        gstruct[fname] = nx.read_gpickle(files)\n",
    "    return gstruct\n",
    "\n",
    "def constructGraphDict(names, fs, verb=False):\n",
    "    \"\"\"\n",
    "    Given a set of files and a directory to put things, loads graphs.\n",
    "\n",
    "    Required parameters:\n",
    "        names:\n",
    "            - List of names of the datasets\n",
    "        fs:\n",
    "            - Dictionary of lists of files in each dataset\n",
    "    Optional parameters:\n",
    "        verb:\n",
    "            - Toggles verbose output statements\n",
    "    \"\"\"\n",
    "    #  Loads graphs into memory for all datasets\n",
    "    graphs = OrderedDict()\n",
    "    if verb:\n",
    "        print(\"Loading Dataset: \" + names)\n",
    "    # The key for the dictionary of graphs is the dataset name\n",
    "    graphs[names] = loadGraphs(fs[names], verb=verb)\n",
    "    return graphs"
   ]
  },
  {
   "cell_type": "code",
   "execution_count": 241,
   "metadata": {},
   "outputs": [],
   "source": [
    "graphs = constructGraphDict(dataset_names, fs, verb=False)"
   ]
  },
  {
   "cell_type": "code",
   "execution_count": 242,
   "metadata": {},
   "outputs": [],
   "source": [
    "import csv\n",
    "# This gets age and sex, respecitvely.\n",
    "tmp = csv.reader(open(ps,newline='')) # this is the whole phenotype file\n",
    "pheno = OrderedDict()\n",
    "triple = [[t[0].strip(), t[2], int(t[3] == '2')] for t in tmp\n",
    "          if t[3] != '#' and t[2] != '#'][1:]  # female=1->0, male=2->1\n",
    "\n",
    "for idx, trip in enumerate(triple):\n",
    "    pheno[trip[0]] = trip[1:]"
   ]
  },
  {
   "cell_type": "code",
   "execution_count": 243,
   "metadata": {},
   "outputs": [],
   "source": [
    "\n",
    "k = list(graphs['SWU4'].keys())\n",
    "g = list(graphs['SWU4'].values())\n",
    "k = list(key[6:11] for key in k)\n",
    "k = k[0::2]\n",
    "g1 = g[0::2]\n",
    "g2 = g[1::2]\n",
    "d = dict(zip(k,g1))\n",
    "\n",
    "\n",
    "#Create vectors of labels\n",
    "age = list()\n",
    "sex = list()\n",
    "for x in pheno:\n",
    "    if x in d:\n",
    "        age.append(pheno[x][0])\n",
    "        sex.append(pheno[x][1])\n",
    "        \n",
    "# should use g1 for now - g2 is the retest data for each subject        "
   ]
  },
  {
   "cell_type": "markdown",
   "metadata": {},
   "source": [
    "## ASSIGNMENT:  \n",
    "(Code above used to get data in the correct format.  Below is a simple example test string with kind of silly features)"
   ]
  },
  {
   "cell_type": "code",
   "execution_count": 321,
   "metadata": {
    "scrolled": true
   },
   "outputs": [],
   "source": [
    "#Combine features, separate training and test data\n",
    "\n",
    "import skimage.feature as skif\n",
    "\n",
    "X = []\n",
    "for i in range(len(g1)):\n",
    "    featvec = [] \n",
    "    \n",
    "    #DEGREE CENTRALITY\n",
    "    degree_c = nx.degree_centrality(g1[i])\n",
    "    dlist = list(degree_c.values())\n",
    "    degree_c = np.array(dlist)\n",
    "    for ss in degree_c:\n",
    "        featvec.append(ss)\n",
    "        \n",
    "    #ADJACENCY SPECTRUM\n",
    "    adj_spec = nx.adjacency_spectrum(g1[i])\n",
    "    for a in adj_spec:\n",
    "        featvec.append(np.real(a))     \n",
    "    \n",
    "    #NUMBER OF EDGES\n",
    "    featvec.append(nx.number_of_edges(g1[i]))\n",
    "    \n",
    "    #NUMBER OF NODES\n",
    "    featvec.append(nx.number_of_nodes(g1[i]))\n",
    "\n",
    "    #DENSITY\n",
    "    featvec.append(nx.density(g1[i]))\n",
    "    \n",
    "    np.shape(featvec)\n",
    "    X.append(featvec)"
   ]
  },
  {
   "cell_type": "code",
   "execution_count": 322,
   "metadata": {},
   "outputs": [
    {
     "name": "stdout",
     "output_type": "stream",
     "text": [
      "Accuracy: 0.6\n",
      "Accuracy: 0.6\n",
      "Accuracy: 0.6\n",
      "Accuracy: 0.6\n",
      "Accuracy: 0.6\n",
      "Accuracy: 0.6\n",
      "Accuracy: 0.6\n",
      "Accuracy: 0.6\n",
      "Accuracy: 0.6\n",
      "Accuracy: 0.6\n",
      "Overall Accuracy: 0.6\n"
     ]
    }
   ],
   "source": [
    "X_train = X[0:100]\n",
    "Y_train = sex[0:100]\n",
    "\n",
    "X_test = X[100:200]\n",
    "Y_test = sex[100:200]\n",
    "\n",
    "from sklearn.tree import DecisionTreeClassifier#GradientBoostingClassifier\n",
    "\n",
    "from sklearn.neural_network import MLPClassifier\n",
    "\n",
    "from sklearn.naive_bayes import GaussianNB\n",
    "\n",
    "accuracy = []\n",
    "\n",
    "for ii in range(10): #performance will change over time\n",
    "    #clf = VotingClassifier(estimators=[('lr', clf1), ('rf', clf2), ('gnb', clf3)], voting='soft')#\n",
    "    #clf = DecisionTreeClassifier()\n",
    "    clf = GaussianNB()\n",
    "    \n",
    "    #clf = MLPClassifier(hidden_layer_sizes = (4,))\n",
    "    clf.fit(X_train, Y_train)\n",
    "    acc = (clf.predict(X_test) == Y_test)\n",
    "    #print(acc)\n",
    "    accval = (float(np.sum(acc))/float(len(Y_test)))\n",
    "    accuracy.append(accval)\n",
    "    print('Accuracy:',accval)\n",
    "\n",
    "print('Overall Accuracy:',str(np.mean(accuracy)))"
   ]
  },
  {
   "cell_type": "code",
   "execution_count": null,
   "metadata": {},
   "outputs": [],
   "source": []
  },
  {
   "cell_type": "code",
   "execution_count": 323,
   "metadata": {},
   "outputs": [
    {
     "data": {
      "image/png": "[encoded data removed]",
      "text/plain": [
       "<matplotlib.figure.Figure at 0x7efdd11c59b0>"
      ]
     },
     "metadata": {},
     "output_type": "display_data"
    }
   ],
   "source": [
    "# plot a graph\n",
    "import matplotlib.pyplot as plt\n",
    "%matplotlib inline\n",
    "\n",
    "final_matrix = np.zeros((70,70))\n",
    "for i in g1:\n",
    "# convert to numpy\n",
    "    matrix = nx.to_numpy_matrix(i, nodelist=sorted(i.nodes())) #this is how you go to a matrix\n",
    "    final_matrix = final_matrix + matrix\n",
    "final_matrix = final_matrix/277\n",
    "    \n",
    "plt.imshow(np.log10(matrix+1))\n",
    "plt.colorbar()\n",
    "plt.title('mean connectome')\n",
    "plt.show()\n"
   ]
  },
  {
   "cell_type": "markdown",
   "metadata": {},
   "source": [
    "<!-- SCRAPS\n",
    "  \n",
    "    \n",
    "    #\n",
    "    #logmatrix = np.log10(np.sum(matrix,0) + 1)\n",
    "    #logmatrix = np.ravel(logmatrix)\n",
    "        \n",
    "    #for ii in logmatrix:\n",
    "    #    featvec.append(ii)\n",
    "    \n",
    "        #clstr = nx.clustering(g1[i], \"min\")\n",
    "    #clstr = list(clstr.values())\n",
    "    #clstr = np.array(clstr)\n",
    "    #for cc in clstr:\n",
    "    #    featvec.append(cc)\n",
    "    \n",
    "        \n",
    "    #matrix = nx.to_numpy_matrix(g1[i], nodelist=sorted(g1[i].nodes())) #this is how you go to a matrix\n",
    "\n",
    "    \n",
    "    #featvec.append(nx.degree_assortativity_coefficient(g1[i]))\n",
    "    \n",
    "    \n",
    "    \n",
    "    #featvec.append(nx.edge_connectivity(g1[i]))\n",
    "    \n",
    "    \n",
    "    #print(matrix)\n",
    "    \n",
    "    #xsum = np.asarray(np.sum(matrix))\n",
    "    #featvec.append(xsum) -->"
   ]
  },
  {
   "cell_type": "code",
   "execution_count": null,
   "metadata": {},
   "outputs": [],
   "source": []
  }
 ],
 "metadata": {
  "kernelspec": {
   "display_name": "Python 3",
   "language": "python",
   "name": "python3"
  },
  "language_info": {
   "codemirror_mode": {
    "name": "ipython",
    "version": 3
   },
   "file_extension": ".py",
   "mimetype": "text/x-python",
   "name": "python",
   "nbconvert_exporter": "python",
   "pygments_lexer": "ipython3",
   "version": "3.6.4"
  }
 },
 "nbformat": 4,
 "nbformat_minor": 2
}
